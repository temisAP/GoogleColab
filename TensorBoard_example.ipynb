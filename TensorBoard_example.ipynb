{
  "nbformat": 4,
  "nbformat_minor": 0,
  "metadata": {
    "colab": {
      "name": "TensorBoard_example.ipynb",
      "provenance": [],
      "collapsed_sections": [],
      "authorship_tag": "ABX9TyNjJzyaTBLgeTVus1dktop7",
      "include_colab_link": true
    },
    "kernelspec": {
      "name": "python3",
      "display_name": "Python 3"
    },
    "language_info": {
      "name": "python"
    }
  },
  "cells": [
    {
      "cell_type": "markdown",
      "metadata": {
        "id": "view-in-github",
        "colab_type": "text"
      },
      "source": [
        "<a href=\"https://colab.research.google.com/github/temisAP/GoogleColab/blob/main/TensorBoard_example.ipynb\" target=\"_parent\"><img src=\"https://colab.research.google.com/assets/colab-badge.svg\" alt=\"Open In Colab\"/></a>"
      ]
    },
    {
      "cell_type": "markdown",
      "metadata": {
        "id": "SXP9i76-ICEu"
      },
      "source": [
        "## TENSORBOARD EXAMPLE"
      ]
    },
    {
      "cell_type": "markdown",
      "metadata": {
        "id": "nf3WfZ-lIa5j"
      },
      "source": [
        "# First step: run IA"
      ]
    },
    {
      "cell_type": "code",
      "metadata": {
        "id": "pL9FC11CH1DO"
      },
      "source": [
        "from IPython.core.display import Image, display"
      ],
      "execution_count": null,
      "outputs": []
    },
    {
      "cell_type": "markdown",
      "metadata": {
        "id": "I1mO0FCBHuK4"
      },
      "source": [
        "Get data from file and import some other stuff"
      ]
    },
    {
      "cell_type": "code",
      "metadata": {
        "id": "1YLj8h0sDMXa",
        "colab": {
          "base_uri": "https://localhost:8080/"
        },
        "outputId": "caad8c5e-a23a-47df-9a2d-89ae0cdc6b2d"
      },
      "source": [
        "import numpy as np\n",
        "import pandas as pd\n",
        "\n",
        "## Get data from file\n",
        "\n",
        "data = pd.read_csv('./sample_data/wine.csv',delimiter=';')\n",
        "print(data)"
      ],
      "execution_count": null,
      "outputs": [
        {
          "output_type": "stream",
          "text": [
            "      fixed acidity  volatile acidity  citric acid  ...  sulphates  alcohol  quality\n",
            "0               7.0              0.27         0.36  ...       0.45      8.8        6\n",
            "1               6.3              0.30         0.34  ...       0.49      9.5        6\n",
            "2               8.1              0.28         0.40  ...       0.44     10.1        6\n",
            "3               7.2              0.23         0.32  ...       0.40      9.9        6\n",
            "4               7.2              0.23         0.32  ...       0.40      9.9        6\n",
            "...             ...               ...          ...  ...        ...      ...      ...\n",
            "4893            6.2              0.21         0.29  ...       0.50     11.2        6\n",
            "4894            6.6              0.32         0.36  ...       0.46      9.6        5\n",
            "4895            6.5              0.24         0.19  ...       0.46      9.4        6\n",
            "4896            5.5              0.29         0.30  ...       0.38     12.8        7\n",
            "4897            6.0              0.21         0.38  ...       0.32     11.8        6\n",
            "\n",
            "[4898 rows x 12 columns]\n"
          ],
          "name": "stdout"
        }
      ]
    },
    {
      "cell_type": "markdown",
      "metadata": {
        "id": "HGvJJHrwH73H"
      },
      "source": [
        "Split data in test and train sets"
      ]
    },
    {
      "cell_type": "code",
      "metadata": {
        "id": "7m_1DB6uH4nQ"
      },
      "source": [
        "from sklearn.model_selection import train_test_split\n",
        "\n",
        "X = data.drop('quality', axis=1)\n",
        "y = data['quality']\n",
        "\n",
        "X_train, X_test, y_train, y_test = train_test_split(X,y,test_size = 0.2, random_state = 42)\n"
      ],
      "execution_count": null,
      "outputs": []
    },
    {
      "cell_type": "markdown",
      "metadata": {
        "id": "KPaBMf3dIHUJ"
      },
      "source": [
        "Random Forest"
      ]
    },
    {
      "cell_type": "code",
      "metadata": {
        "id": "E9iWtMTzIYgN"
      },
      "source": [
        "from sklearn.ensemble import RandomForestClassifier\n",
        "\n",
        "model = RandomForestClassifier(random_state=42)\n",
        "model.fit(X_train,y_train)\n",
        "score = model.score(X_test,y_test)"
      ],
      "execution_count": null,
      "outputs": []
    },
    {
      "cell_type": "markdown",
      "metadata": {
        "id": "ldcEVcdYIuCK"
      },
      "source": [
        "## Second step: create log file\n"
      ]
    },
    {
      "cell_type": "code",
      "metadata": {
        "id": "uL5sgyZ2JC5X"
      },
      "source": [
        ""
      ],
      "execution_count": null,
      "outputs": []
    }
  ]
}